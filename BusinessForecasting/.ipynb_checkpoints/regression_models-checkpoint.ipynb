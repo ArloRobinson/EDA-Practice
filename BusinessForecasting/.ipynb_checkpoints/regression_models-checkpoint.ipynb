{
 "cells": [
  {
   "cell_type": "markdown",
   "metadata": {},
   "source": [
    "# Assessment 3 - Regression Calculations"
   ]
  },
  {
   "cell_type": "markdown",
   "metadata": {},
   "source": [
    "### Import Core Libraries"
   ]
  },
  {
   "cell_type": "code",
   "execution_count": 260,
   "metadata": {},
   "outputs": [],
   "source": [
    "import numpy as np\n",
    "import pandas as pd\n",
    "import matplotlib.pyplot as plt\n",
    "import seaborn as sns\n",
    "import statsmodels.api as sm\n",
    "from statsmodels.tsa.api import acf, graphics, pacf\n",
    "from statsmodels.tsa.ar_model import AutoReg, ar_select_order\n",
    "\n",
    "sns.set_theme(style='whitegrid', palette='bright') # Establish theme for graphs\n",
    "plt.rcParams[\"figure.figsize\"] = (10,7) # Make graphs larger"
   ]
  },
  {
   "cell_type": "markdown",
   "metadata": {},
   "source": [
    "### Load Data from `pepsi.csv`"
   ]
  },
  {
   "cell_type": "code",
   "execution_count": 261,
   "metadata": {},
   "outputs": [
    {
     "data": {
      "text/html": [
       "<div>\n",
       "<style scoped>\n",
       "    .dataframe tbody tr th:only-of-type {\n",
       "        vertical-align: middle;\n",
       "    }\n",
       "\n",
       "    .dataframe tbody tr th {\n",
       "        vertical-align: top;\n",
       "    }\n",
       "\n",
       "    .dataframe thead th {\n",
       "        text-align: right;\n",
       "    }\n",
       "</style>\n",
       "<table border=\"1\" class=\"dataframe\">\n",
       "  <thead>\n",
       "    <tr style=\"text-align: right;\">\n",
       "      <th></th>\n",
       "      <th>year</th>\n",
       "      <th>annual dividend</th>\n",
       "      <th>log(annual dividend)</th>\n",
       "      <th>time</th>\n",
       "      <th>time2</th>\n",
       "    </tr>\n",
       "  </thead>\n",
       "  <tbody>\n",
       "    <tr>\n",
       "      <th>0</th>\n",
       "      <td>2010.0</td>\n",
       "      <td>0.86</td>\n",
       "      <td>-0.0635</td>\n",
       "      <td>1.0</td>\n",
       "      <td>1.0</td>\n",
       "    </tr>\n",
       "    <tr>\n",
       "      <th>1</th>\n",
       "      <td>2011.0</td>\n",
       "      <td>0.96</td>\n",
       "      <td>-0.0177</td>\n",
       "      <td>2.0</td>\n",
       "      <td>4.0</td>\n",
       "    </tr>\n",
       "    <tr>\n",
       "      <th>2</th>\n",
       "      <td>2012.0</td>\n",
       "      <td>1.06</td>\n",
       "      <td>0.0237</td>\n",
       "      <td>3.0</td>\n",
       "      <td>9.0</td>\n",
       "    </tr>\n",
       "    <tr>\n",
       "      <th>3</th>\n",
       "      <td>2013.0</td>\n",
       "      <td>1.20</td>\n",
       "      <td>0.0792</td>\n",
       "      <td>4.0</td>\n",
       "      <td>16.0</td>\n",
       "    </tr>\n",
       "    <tr>\n",
       "      <th>4</th>\n",
       "      <td>2014.0</td>\n",
       "      <td>1.34</td>\n",
       "      <td>0.1284</td>\n",
       "      <td>5.0</td>\n",
       "      <td>25.0</td>\n",
       "    </tr>\n",
       "  </tbody>\n",
       "</table>\n",
       "</div>"
      ],
      "text/plain": [
       "     year  annual dividend  log(annual dividend)  time  time2\n",
       "0  2010.0             0.86               -0.0635   1.0    1.0\n",
       "1  2011.0             0.96               -0.0177   2.0    4.0\n",
       "2  2012.0             1.06                0.0237   3.0    9.0\n",
       "3  2013.0             1.20                0.0792   4.0   16.0\n",
       "4  2014.0             1.34                0.1284   5.0   25.0"
      ]
     },
     "execution_count": 261,
     "metadata": {},
     "output_type": "execute_result"
    }
   ],
   "source": [
    "data = pd.read_csv('pepsi.csv')\n",
    "data = data.drop('Unnamed: 5', axis=1)\n",
    "data = data.dropna()\n",
    "#data = data.drop(labels=12, axis=0)\n",
    "#data = data.drop(labels=11, axis=0)\n",
    "data.head()"
   ]
  },
  {
   "cell_type": "markdown",
   "metadata": {},
   "source": [
    "### Assign Main Dependent and Independent Variables\n",
    "**Time** is the main independent $ x $ variable and **Annual Dividend** is the main dependent $ y $ variable."
   ]
  },
  {
   "cell_type": "code",
   "execution_count": 262,
   "metadata": {},
   "outputs": [],
   "source": [
    "x = data['time'] # Independent variable\n",
    "y = data['annual dividend'] # Dependent variable"
   ]
  },
  {
   "cell_type": "markdown",
   "metadata": {},
   "source": [
    "### Create Scatter Plot for Main Variables"
   ]
  },
  {
   "cell_type": "code",
   "execution_count": 263,
   "metadata": {},
   "outputs": [
    {
     "data": {
      "image/png": "[encoded data removed]",
      "text/plain": [
       "<Figure size 720x504 with 1 Axes>"
      ]
     },
     "metadata": {},
     "output_type": "display_data"
    }
   ],
   "source": [
    "plt.scatter(x,y)\n",
    "plt.plot(x,y)\n",
    "plt.xlabel('Time', fontsize = 16)\n",
    "plt.ylabel('Annual Dividend', fontsize = 16)\n",
    "plt.show()"
   ]
  },
  {
   "cell_type": "markdown",
   "metadata": {},
   "source": [
    "### Regression Plot for Main Variables"
   ]
  },
  {
   "cell_type": "code",
   "execution_count": 264,
   "metadata": {},
   "outputs": [
    {
     "data": {
      "text/plain": [
       "<matplotlib.axes._subplots.AxesSubplot at 0x2858e065e80>"
      ]
     },
     "execution_count": 264,
     "metadata": {},
     "output_type": "execute_result"
    },
    {
     "data": {
      "image/png": "[encoded data removed]",
      "text/plain": [
       "<Figure size 720x504 with 1 Axes>"
      ]
     },
     "metadata": {},
     "output_type": "display_data"
    }
   ],
   "source": [
    "sns.regplot(data=data, x='time', y='annual dividend')"
   ]
  },
  {
   "cell_type": "markdown",
   "metadata": {},
   "source": [
    "## Simple Linear Regression Analysis\n",
    "\n",
    "The simple linear regression equation is: $ y = 0.97 + 0.073x $ "
   ]
  },
  {
   "cell_type": "code",
   "execution_count": 265,
   "metadata": {},
   "outputs": [
    {
     "data": {
      "text/html": [
       "<table class=\"simpletable\">\n",
       "<caption>OLS Regression Results</caption>\n",
       "<tr>\n",
       "  <th>Dep. Variable:</th>     <td>annual dividend</td> <th>  R-squared:         </th> <td>   0.405</td>\n",
       "</tr>\n",
       "<tr>\n",
       "  <th>Model:</th>                   <td>OLS</td>       <th>  Adj. R-squared:    </th> <td>   0.351</td>\n",
       "</tr>\n",
       "<tr>\n",
       "  <th>Method:</th>             <td>Least Squares</td>  <th>  F-statistic:       </th> <td>   7.487</td>\n",
       "</tr>\n",
       "<tr>\n",
       "  <th>Date:</th>             <td>Sun, 07 Aug 2022</td> <th>  Prob (F-statistic):</th>  <td>0.0194</td> \n",
       "</tr>\n",
       "<tr>\n",
       "  <th>Time:</th>                 <td>22:25:47</td>     <th>  Log-Likelihood:    </th> <td> -4.0900</td>\n",
       "</tr>\n",
       "<tr>\n",
       "  <th>No. Observations:</th>      <td>    13</td>      <th>  AIC:               </th> <td>   12.18</td>\n",
       "</tr>\n",
       "<tr>\n",
       "  <th>Df Residuals:</th>          <td>    11</td>      <th>  BIC:               </th> <td>   13.31</td>\n",
       "</tr>\n",
       "<tr>\n",
       "  <th>Df Model:</th>              <td>     1</td>      <th>                     </th>     <td> </td>   \n",
       "</tr>\n",
       "<tr>\n",
       "  <th>Covariance Type:</th>      <td>nonrobust</td>    <th>                     </th>     <td> </td>   \n",
       "</tr>\n",
       "</table>\n",
       "<table class=\"simpletable\">\n",
       "<tr>\n",
       "    <td></td>       <th>coef</th>     <th>std err</th>      <th>t</th>      <th>P>|t|</th>  <th>[0.025</th>    <th>0.975]</th>  \n",
       "</tr>\n",
       "<tr>\n",
       "  <th>const</th> <td>    0.9700</td> <td>    0.212</td> <td>    4.576</td> <td> 0.001</td> <td>    0.503</td> <td>    1.437</td>\n",
       "</tr>\n",
       "<tr>\n",
       "  <th>time</th>  <td>    0.0731</td> <td>    0.027</td> <td>    2.736</td> <td> 0.019</td> <td>    0.014</td> <td>    0.132</td>\n",
       "</tr>\n",
       "</table>\n",
       "<table class=\"simpletable\">\n",
       "<tr>\n",
       "  <th>Omnibus:</th>       <td> 0.712</td> <th>  Durbin-Watson:     </th> <td>   0.905</td>\n",
       "</tr>\n",
       "<tr>\n",
       "  <th>Prob(Omnibus):</th> <td> 0.700</td> <th>  Jarque-Bera (JB):  </th> <td>   0.628</td>\n",
       "</tr>\n",
       "<tr>\n",
       "  <th>Skew:</th>          <td>-0.439</td> <th>  Prob(JB):          </th> <td>   0.730</td>\n",
       "</tr>\n",
       "<tr>\n",
       "  <th>Kurtosis:</th>      <td> 2.376</td> <th>  Cond. No.          </th> <td>    17.0</td>\n",
       "</tr>\n",
       "</table><br/><br/>Warnings:<br/>[1] Standard Errors assume that the covariance matrix of the errors is correctly specified."
      ],
      "text/plain": [
       "<class 'statsmodels.iolib.summary.Summary'>\n",
       "\"\"\"\n",
       "                            OLS Regression Results                            \n",
       "==============================================================================\n",
       "Dep. Variable:        annual dividend   R-squared:                       0.405\n",
       "Model:                            OLS   Adj. R-squared:                  0.351\n",
       "Method:                 Least Squares   F-statistic:                     7.487\n",
       "Date:                Sun, 07 Aug 2022   Prob (F-statistic):             0.0194\n",
       "Time:                        22:25:47   Log-Likelihood:                -4.0900\n",
       "No. Observations:                  13   AIC:                             12.18\n",
       "Df Residuals:                      11   BIC:                             13.31\n",
       "Df Model:                           1                                         \n",
       "Covariance Type:            nonrobust                                         \n",
       "==============================================================================\n",
       "                 coef    std err          t      P>|t|      [0.025      0.975]\n",
       "------------------------------------------------------------------------------\n",
       "const          0.9700      0.212      4.576      0.001       0.503       1.437\n",
       "time           0.0731      0.027      2.736      0.019       0.014       0.132\n",
       "==============================================================================\n",
       "Omnibus:                        0.712   Durbin-Watson:                   0.905\n",
       "Prob(Omnibus):                  0.700   Jarque-Bera (JB):                0.628\n",
       "Skew:                          -0.439   Prob(JB):                        0.730\n",
       "Kurtosis:                       2.376   Cond. No.                         17.0\n",
       "==============================================================================\n",
       "\n",
       "Warnings:\n",
       "[1] Standard Errors assume that the covariance matrix of the errors is correctly specified.\n",
       "\"\"\""
      ]
     },
     "execution_count": 265,
     "metadata": {},
     "output_type": "execute_result"
    }
   ],
   "source": [
    "import warnings\n",
    "warnings.filterwarnings('ignore') # Ignore the n>20 warning as the sample size is under 20\n",
    "\n",
    "x_c = sm.add_constant(x) # create constant value from x\n",
    "results = sm.OLS(y,x_c).fit() # create OLS regression model\n",
    "results.summary() # display results"
   ]
  },
  {
   "cell_type": "markdown",
   "metadata": {},
   "source": [
    "### Simple Linear Regression Residual Plot"
   ]
  },
  {
   "cell_type": "code",
   "execution_count": 266,
   "metadata": {},
   "outputs": [
    {
     "data": {
      "image/png": "[encoded data removed]",
      "text/plain": [
       "<Figure size 720x504 with 1 Axes>"
      ]
     },
     "metadata": {},
     "output_type": "display_data"
    }
   ],
   "source": [
    "plt.scatter(x,results.resid)\n",
    "plt.xlabel('Time', fontsize = 16)\n",
    "plt.ylabel('Simple Linear Residuals', fontsize = 16)\n",
    "plt.show()"
   ]
  },
  {
   "cell_type": "markdown",
   "metadata": {},
   "source": [
    "### Plot the Simple Linear Equation"
   ]
  },
  {
   "cell_type": "code",
   "execution_count": 267,
   "metadata": {},
   "outputs": [
    {
     "data": {
      "image/png": "[encoded data removed]",
      "text/plain": [
       "<Figure size 720x504 with 1 Axes>"
      ]
     },
     "metadata": {},
     "output_type": "display_data"
    }
   ],
   "source": [
    "x_lin = np.linspace(0,13,100) # Create a basic numpy linspace for all graphs\n",
    "\n",
    "# the function, which is y = 0.97 + 0.073x here\n",
    "y_eq = 0.97 + (0.0731 * x_lin)\n",
    "\n",
    "# setting the axes at the centre\n",
    "fig = plt.figure()\n",
    "ax = fig.add_subplot(1, 1, 1)\n",
    "ax.spines['bottom'].set_position('zero')\n",
    "ax.spines['right'].set_color('none')\n",
    "ax.spines['top'].set_color('none')\n",
    "ax.xaxis.set_ticks_position('bottom')\n",
    "ax.yaxis.set_ticks_position('left')\n",
    "\n",
    "# plot the function\n",
    "plt.plot(x_lin, y_eq, 'r')\n",
    "\n",
    "# show the plot\n",
    "plt.show()"
   ]
  },
  {
   "cell_type": "markdown",
   "metadata": {},
   "source": [
    "## Quadratic Trend Regression Analysis\n",
    "Get the time and time-squared data from the dataframe, to be used for multiple linear regression. \n",
    "Then apply multiple linear regression.\n",
    "The quadratic regression equation is: $ y = 0.33 + 0.328x - 0.018x2 $"
   ]
  },
  {
   "cell_type": "code",
   "execution_count": 268,
   "metadata": {},
   "outputs": [
    {
     "data": {
      "text/html": [
       "<table class=\"simpletable\">\n",
       "<caption>OLS Regression Results</caption>\n",
       "<tr>\n",
       "  <th>Dep. Variable:</th>     <td>annual dividend</td> <th>  R-squared:         </th> <td>   0.682</td> \n",
       "</tr>\n",
       "<tr>\n",
       "  <th>Model:</th>                   <td>OLS</td>       <th>  Adj. R-squared:    </th> <td>   0.618</td> \n",
       "</tr>\n",
       "<tr>\n",
       "  <th>Method:</th>             <td>Least Squares</td>  <th>  F-statistic:       </th> <td>   10.72</td> \n",
       "</tr>\n",
       "<tr>\n",
       "  <th>Date:</th>             <td>Sun, 07 Aug 2022</td> <th>  Prob (F-statistic):</th>  <td>0.00325</td> \n",
       "</tr>\n",
       "<tr>\n",
       "  <th>Time:</th>                 <td>22:25:48</td>     <th>  Log-Likelihood:    </th> <td>-0.018487</td>\n",
       "</tr>\n",
       "<tr>\n",
       "  <th>No. Observations:</th>      <td>    13</td>      <th>  AIC:               </th> <td>   6.037</td> \n",
       "</tr>\n",
       "<tr>\n",
       "  <th>Df Residuals:</th>          <td>    10</td>      <th>  BIC:               </th> <td>   7.732</td> \n",
       "</tr>\n",
       "<tr>\n",
       "  <th>Df Model:</th>              <td>     2</td>      <th>                     </th>     <td> </td>    \n",
       "</tr>\n",
       "<tr>\n",
       "  <th>Covariance Type:</th>      <td>nonrobust</td>    <th>                     </th>     <td> </td>    \n",
       "</tr>\n",
       "</table>\n",
       "<table class=\"simpletable\">\n",
       "<tr>\n",
       "    <td></td>       <th>coef</th>     <th>std err</th>      <th>t</th>      <th>P>|t|</th>  <th>[0.025</th>    <th>0.975]</th>  \n",
       "</tr>\n",
       "<tr>\n",
       "  <th>const</th> <td>    0.3322</td> <td>    0.270</td> <td>    1.229</td> <td> 0.247</td> <td>   -0.270</td> <td>    0.935</td>\n",
       "</tr>\n",
       "<tr>\n",
       "  <th>time</th>  <td>    0.3282</td> <td>    0.089</td> <td>    3.694</td> <td> 0.004</td> <td>    0.130</td> <td>    0.526</td>\n",
       "</tr>\n",
       "<tr>\n",
       "  <th>time2</th> <td>   -0.0182</td> <td>    0.006</td> <td>   -2.951</td> <td> 0.015</td> <td>   -0.032</td> <td>   -0.004</td>\n",
       "</tr>\n",
       "</table>\n",
       "<table class=\"simpletable\">\n",
       "<tr>\n",
       "  <th>Omnibus:</th>       <td> 1.117</td> <th>  Durbin-Watson:     </th> <td>   1.468</td>\n",
       "</tr>\n",
       "<tr>\n",
       "  <th>Prob(Omnibus):</th> <td> 0.572</td> <th>  Jarque-Bera (JB):  </th> <td>   0.555</td>\n",
       "</tr>\n",
       "<tr>\n",
       "  <th>Skew:</th>          <td> 0.493</td> <th>  Prob(JB):          </th> <td>   0.758</td>\n",
       "</tr>\n",
       "<tr>\n",
       "  <th>Kurtosis:</th>      <td> 2.771</td> <th>  Cond. No.          </th> <td>    307.</td>\n",
       "</tr>\n",
       "</table><br/><br/>Warnings:<br/>[1] Standard Errors assume that the covariance matrix of the errors is correctly specified."
      ],
      "text/plain": [
       "<class 'statsmodels.iolib.summary.Summary'>\n",
       "\"\"\"\n",
       "                            OLS Regression Results                            \n",
       "==============================================================================\n",
       "Dep. Variable:        annual dividend   R-squared:                       0.682\n",
       "Model:                            OLS   Adj. R-squared:                  0.618\n",
       "Method:                 Least Squares   F-statistic:                     10.72\n",
       "Date:                Sun, 07 Aug 2022   Prob (F-statistic):            0.00325\n",
       "Time:                        22:25:48   Log-Likelihood:              -0.018487\n",
       "No. Observations:                  13   AIC:                             6.037\n",
       "Df Residuals:                      10   BIC:                             7.732\n",
       "Df Model:                           2                                         \n",
       "Covariance Type:            nonrobust                                         \n",
       "==============================================================================\n",
       "                 coef    std err          t      P>|t|      [0.025      0.975]\n",
       "------------------------------------------------------------------------------\n",
       "const          0.3322      0.270      1.229      0.247      -0.270       0.935\n",
       "time           0.3282      0.089      3.694      0.004       0.130       0.526\n",
       "time2         -0.0182      0.006     -2.951      0.015      -0.032      -0.004\n",
       "==============================================================================\n",
       "Omnibus:                        1.117   Durbin-Watson:                   1.468\n",
       "Prob(Omnibus):                  0.572   Jarque-Bera (JB):                0.555\n",
       "Skew:                           0.493   Prob(JB):                        0.758\n",
       "Kurtosis:                       2.771   Cond. No.                         307.\n",
       "==============================================================================\n",
       "\n",
       "Warnings:\n",
       "[1] Standard Errors assume that the covariance matrix of the errors is correctly specified.\n",
       "\"\"\""
      ]
     },
     "execution_count": 268,
     "metadata": {},
     "output_type": "execute_result"
    }
   ],
   "source": [
    "x_time = data[[\"time\", \"time2\"]] # Independent variable of time and time-squared\n",
    "x_c = sm.add_constant(x_time)\n",
    "results2 = sm.OLS(y,x_c).fit()\n",
    "results2.summary()"
   ]
  },
  {
   "cell_type": "markdown",
   "metadata": {},
   "source": [
    "### Quadratic Regression Residuals Plot"
   ]
  },
  {
   "cell_type": "code",
   "execution_count": 269,
   "metadata": {},
   "outputs": [
    {
     "data": {
      "image/png": "[encoded data removed]",
      "text/plain": [
       "<Figure size 720x504 with 1 Axes>"
      ]
     },
     "metadata": {},
     "output_type": "display_data"
    }
   ],
   "source": [
    "plt.scatter(x,results2.resid)\n",
    "plt.xlabel('Time', fontsize = 16)\n",
    "plt.ylabel('Quadratic Residuals', fontsize = 16)\n",
    "plt.show()"
   ]
  },
  {
   "cell_type": "markdown",
   "metadata": {},
   "source": [
    "### Plot the Quadratic Equation"
   ]
  },
  {
   "cell_type": "code",
   "execution_count": 270,
   "metadata": {},
   "outputs": [
    {
     "data": {
      "image/png": "[encoded data removed]",
      "text/plain": [
       "<Figure size 720x504 with 1 Axes>"
      ]
     },
     "metadata": {},
     "output_type": "display_data"
    }
   ],
   "source": [
    "# the function, which is y = 0.33 + 0.328time - 0.018time2 here\n",
    "y_eq = 0.33 + (0.328 * x_quad) - (0.018 * x_quad**2)\n",
    "\n",
    "# setting the axes at the centre\n",
    "fig = plt.figure()\n",
    "ax = fig.add_subplot(1, 1, 1)\n",
    "ax.spines['bottom'].set_position('zero')\n",
    "ax.spines['right'].set_color('none')\n",
    "ax.spines['top'].set_color('none')\n",
    "ax.xaxis.set_ticks_position('bottom')\n",
    "ax.yaxis.set_ticks_position('left')\n",
    "\n",
    "# plot the function\n",
    "plt.plot(x_lin, y_eq, 'r')\n",
    "\n",
    "# show the plot\n",
    "plt.show()"
   ]
  },
  {
   "cell_type": "markdown",
   "metadata": {},
   "source": [
    "## Exponential Trend Regression\n",
    "Use the log of y, in this case `log(annual dividend)`, to produce the exponential trend regression.\n",
    "The exponential regression equation is: $ y = -0.0071 + 0.0539x $ "
   ]
  },
  {
   "cell_type": "code",
   "execution_count": 271,
   "metadata": {},
   "outputs": [
    {
     "data": {
      "text/html": [
       "<table class=\"simpletable\">\n",
       "<caption>OLS Regression Results</caption>\n",
       "<tr>\n",
       "  <th>Dep. Variable:</th>    <td>log(annual dividend)</td> <th>  R-squared:         </th> <td>   0.454</td>\n",
       "</tr>\n",
       "<tr>\n",
       "  <th>Model:</th>                     <td>OLS</td>         <th>  Adj. R-squared:    </th> <td>   0.404</td>\n",
       "</tr>\n",
       "<tr>\n",
       "  <th>Method:</th>               <td>Least Squares</td>    <th>  F-statistic:       </th> <td>   9.150</td>\n",
       "</tr>\n",
       "<tr>\n",
       "  <th>Date:</th>               <td>Sun, 07 Aug 2022</td>   <th>  Prob (F-statistic):</th>  <td>0.0116</td> \n",
       "</tr>\n",
       "<tr>\n",
       "  <th>Time:</th>                   <td>22:25:49</td>       <th>  Log-Likelihood:    </th> <td>  12.344</td>\n",
       "</tr>\n",
       "<tr>\n",
       "  <th>No. Observations:</th>        <td>    13</td>        <th>  AIC:               </th> <td>  -20.69</td>\n",
       "</tr>\n",
       "<tr>\n",
       "  <th>Df Residuals:</th>            <td>    11</td>        <th>  BIC:               </th> <td>  -19.56</td>\n",
       "</tr>\n",
       "<tr>\n",
       "  <th>Df Model:</th>                <td>     1</td>        <th>                     </th>     <td> </td>   \n",
       "</tr>\n",
       "<tr>\n",
       "  <th>Covariance Type:</th>        <td>nonrobust</td>      <th>                     </th>     <td> </td>   \n",
       "</tr>\n",
       "</table>\n",
       "<table class=\"simpletable\">\n",
       "<tr>\n",
       "    <td></td>       <th>coef</th>     <th>std err</th>      <th>t</th>      <th>P>|t|</th>  <th>[0.025</th>    <th>0.975]</th>  \n",
       "</tr>\n",
       "<tr>\n",
       "  <th>const</th> <td>   -0.0071</td> <td>    0.060</td> <td>   -0.118</td> <td> 0.908</td> <td>   -0.139</td> <td>    0.125</td>\n",
       "</tr>\n",
       "<tr>\n",
       "  <th>time</th>  <td>    0.0228</td> <td>    0.008</td> <td>    3.025</td> <td> 0.012</td> <td>    0.006</td> <td>    0.039</td>\n",
       "</tr>\n",
       "</table>\n",
       "<table class=\"simpletable\">\n",
       "<tr>\n",
       "  <th>Omnibus:</th>       <td> 1.480</td> <th>  Durbin-Watson:     </th> <td>   0.770</td>\n",
       "</tr>\n",
       "<tr>\n",
       "  <th>Prob(Omnibus):</th> <td> 0.477</td> <th>  Jarque-Bera (JB):  </th> <td>   1.162</td>\n",
       "</tr>\n",
       "<tr>\n",
       "  <th>Skew:</th>          <td>-0.602</td> <th>  Prob(JB):          </th> <td>   0.559</td>\n",
       "</tr>\n",
       "<tr>\n",
       "  <th>Kurtosis:</th>      <td> 2.167</td> <th>  Cond. No.          </th> <td>    17.0</td>\n",
       "</tr>\n",
       "</table><br/><br/>Warnings:<br/>[1] Standard Errors assume that the covariance matrix of the errors is correctly specified."
      ],
      "text/plain": [
       "<class 'statsmodels.iolib.summary.Summary'>\n",
       "\"\"\"\n",
       "                             OLS Regression Results                             \n",
       "================================================================================\n",
       "Dep. Variable:     log(annual dividend)   R-squared:                       0.454\n",
       "Model:                              OLS   Adj. R-squared:                  0.404\n",
       "Method:                   Least Squares   F-statistic:                     9.150\n",
       "Date:                  Sun, 07 Aug 2022   Prob (F-statistic):             0.0116\n",
       "Time:                          22:25:49   Log-Likelihood:                 12.344\n",
       "No. Observations:                    13   AIC:                            -20.69\n",
       "Df Residuals:                        11   BIC:                            -19.56\n",
       "Df Model:                             1                                         \n",
       "Covariance Type:              nonrobust                                         \n",
       "==============================================================================\n",
       "                 coef    std err          t      P>|t|      [0.025      0.975]\n",
       "------------------------------------------------------------------------------\n",
       "const         -0.0071      0.060     -0.118      0.908      -0.139       0.125\n",
       "time           0.0228      0.008      3.025      0.012       0.006       0.039\n",
       "==============================================================================\n",
       "Omnibus:                        1.480   Durbin-Watson:                   0.770\n",
       "Prob(Omnibus):                  0.477   Jarque-Bera (JB):                1.162\n",
       "Skew:                          -0.602   Prob(JB):                        0.559\n",
       "Kurtosis:                       2.167   Cond. No.                         17.0\n",
       "==============================================================================\n",
       "\n",
       "Warnings:\n",
       "[1] Standard Errors assume that the covariance matrix of the errors is correctly specified.\n",
       "\"\"\""
      ]
     },
     "execution_count": 271,
     "metadata": {},
     "output_type": "execute_result"
    }
   ],
   "source": [
    "y_log = data[\"log(annual dividend)\"] # Use the log of Annual Dividend\n",
    "x_c = sm.add_constant(data['time'])\n",
    "results3 = sm.OLS(y_log,x_c).fit()\n",
    "results3.summary()\n",
    "\n",
    "#b1 = 0.05390144506916017 "
   ]
  },
  {
   "cell_type": "code",
   "execution_count": 272,
   "metadata": {},
   "outputs": [
    {
     "name": "stdout",
     "output_type": "stream",
     "text": [
      "0.05390144506916017\n"
     ]
    }
   ],
   "source": [
    "# Show the dividend increase\n",
    "b1 = 10 ** 0.0228\n",
    "print(b1-1)"
   ]
  },
  {
   "cell_type": "markdown",
   "metadata": {},
   "source": [
    "### Exponential Regression Residuals Plot"
   ]
  },
  {
   "cell_type": "code",
   "execution_count": 273,
   "metadata": {},
   "outputs": [
    {
     "data": {
      "image/png": "[encoded data removed]",
      "text/plain": [
       "<Figure size 720x504 with 1 Axes>"
      ]
     },
     "metadata": {},
     "output_type": "display_data"
    }
   ],
   "source": [
    "plt.scatter(x,results3.resid)\n",
    "plt.xlabel('Time', fontsize = 16)\n",
    "plt.ylabel('Exponential Regression Residuals', fontsize = 16)\n",
    "plt.show()"
   ]
  },
  {
   "cell_type": "markdown",
   "metadata": {},
   "source": [
    "### Plot the Exponential Equation"
   ]
  },
  {
   "cell_type": "code",
   "execution_count": 274,
   "metadata": {},
   "outputs": [
    {
     "data": {
      "image/png": "[encoded data removed]",
      "text/plain": [
       "<Figure size 720x504 with 1 Axes>"
      ]
     },
     "metadata": {},
     "output_type": "display_data"
    }
   ],
   "source": [
    "# the function, which is y = -0.0071 + 0.0539x here\n",
    "y_eq = -0.0071 + (0.0539 * x_exp)\n",
    "\n",
    "# setting the axes at the centre\n",
    "fig = plt.figure()\n",
    "ax = fig.add_subplot(1, 1, 1)\n",
    "ax.spines['bottom'].set_position('zero')\n",
    "ax.spines['right'].set_color('none')\n",
    "ax.spines['top'].set_color('none')\n",
    "ax.xaxis.set_ticks_position('bottom')\n",
    "ax.yaxis.set_ticks_position('left')\n",
    "\n",
    "# plot the function\n",
    "plt.plot(x_lin, y_eq, 'r')\n",
    "\n",
    "# show the plot\n",
    "plt.show()"
   ]
  },
  {
   "cell_type": "markdown",
   "metadata": {},
   "source": [
    "## Auto Regression"
   ]
  },
  {
   "cell_type": "markdown",
   "metadata": {},
   "source": [
    "### Auto Regression Using Lag 3\n",
    "First load the data, then run the multiple linear regression."
   ]
  },
  {
   "cell_type": "code",
   "execution_count": 275,
   "metadata": {},
   "outputs": [
    {
     "data": {
      "text/html": [
       "<div>\n",
       "<style scoped>\n",
       "    .dataframe tbody tr th:only-of-type {\n",
       "        vertical-align: middle;\n",
       "    }\n",
       "\n",
       "    .dataframe tbody tr th {\n",
       "        vertical-align: top;\n",
       "    }\n",
       "\n",
       "    .dataframe thead th {\n",
       "        text-align: right;\n",
       "    }\n",
       "</style>\n",
       "<table border=\"1\" class=\"dataframe\">\n",
       "  <thead>\n",
       "    <tr style=\"text-align: right;\">\n",
       "      <th></th>\n",
       "      <th>year</th>\n",
       "      <th>annual dividend</th>\n",
       "      <th>lag1</th>\n",
       "      <th>lag2</th>\n",
       "      <th>lag3</th>\n",
       "      <th>time</th>\n",
       "    </tr>\n",
       "  </thead>\n",
       "  <tbody>\n",
       "    <tr>\n",
       "      <th>0</th>\n",
       "      <td>2013.0</td>\n",
       "      <td>1.20</td>\n",
       "      <td>1.06</td>\n",
       "      <td>0.96</td>\n",
       "      <td>0.86</td>\n",
       "      <td>4</td>\n",
       "    </tr>\n",
       "    <tr>\n",
       "      <th>1</th>\n",
       "      <td>2014.0</td>\n",
       "      <td>1.34</td>\n",
       "      <td>1.20</td>\n",
       "      <td>1.06</td>\n",
       "      <td>0.96</td>\n",
       "      <td>5</td>\n",
       "    </tr>\n",
       "    <tr>\n",
       "      <th>2</th>\n",
       "      <td>2015.0</td>\n",
       "      <td>1.49</td>\n",
       "      <td>1.34</td>\n",
       "      <td>1.20</td>\n",
       "      <td>1.06</td>\n",
       "      <td>6</td>\n",
       "    </tr>\n",
       "    <tr>\n",
       "      <th>3</th>\n",
       "      <td>2016.0</td>\n",
       "      <td>1.63</td>\n",
       "      <td>1.49</td>\n",
       "      <td>1.34</td>\n",
       "      <td>1.20</td>\n",
       "      <td>7</td>\n",
       "    </tr>\n",
       "    <tr>\n",
       "      <th>4</th>\n",
       "      <td>2017.0</td>\n",
       "      <td>1.82</td>\n",
       "      <td>1.63</td>\n",
       "      <td>1.49</td>\n",
       "      <td>1.34</td>\n",
       "      <td>8</td>\n",
       "    </tr>\n",
       "    <tr>\n",
       "      <th>5</th>\n",
       "      <td>2018.0</td>\n",
       "      <td>1.97</td>\n",
       "      <td>1.82</td>\n",
       "      <td>1.63</td>\n",
       "      <td>1.49</td>\n",
       "      <td>9</td>\n",
       "    </tr>\n",
       "    <tr>\n",
       "      <th>6</th>\n",
       "      <td>2019.0</td>\n",
       "      <td>2.11</td>\n",
       "      <td>1.97</td>\n",
       "      <td>1.82</td>\n",
       "      <td>1.63</td>\n",
       "      <td>10</td>\n",
       "    </tr>\n",
       "    <tr>\n",
       "      <th>7</th>\n",
       "      <td>2020.0</td>\n",
       "      <td>2.26</td>\n",
       "      <td>2.11</td>\n",
       "      <td>1.97</td>\n",
       "      <td>1.82</td>\n",
       "      <td>11</td>\n",
       "    </tr>\n",
       "    <tr>\n",
       "      <th>8</th>\n",
       "      <td>2021.0</td>\n",
       "      <td>1.22</td>\n",
       "      <td>2.26</td>\n",
       "      <td>2.11</td>\n",
       "      <td>1.97</td>\n",
       "      <td>12</td>\n",
       "    </tr>\n",
       "    <tr>\n",
       "      <th>9</th>\n",
       "      <td>2022.0</td>\n",
       "      <td>1.34</td>\n",
       "      <td>1.22</td>\n",
       "      <td>2.26</td>\n",
       "      <td>2.11</td>\n",
       "      <td>13</td>\n",
       "    </tr>\n",
       "  </tbody>\n",
       "</table>\n",
       "</div>"
      ],
      "text/plain": [
       "     year  annual dividend  lag1  lag2  lag3  time\n",
       "0  2013.0             1.20  1.06  0.96  0.86     4\n",
       "1  2014.0             1.34  1.20  1.06  0.96     5\n",
       "2  2015.0             1.49  1.34  1.20  1.06     6\n",
       "3  2016.0             1.63  1.49  1.34  1.20     7\n",
       "4  2017.0             1.82  1.63  1.49  1.34     8\n",
       "5  2018.0             1.97  1.82  1.63  1.49     9\n",
       "6  2019.0             2.11  1.97  1.82  1.63    10\n",
       "7  2020.0             2.26  2.11  1.97  1.82    11\n",
       "8  2021.0             1.22  2.26  2.11  1.97    12\n",
       "9  2022.0             1.34  1.22  2.26  2.11    13"
      ]
     },
     "execution_count": 275,
     "metadata": {},
     "output_type": "execute_result"
    }
   ],
   "source": [
    "data_lag3 = pd.read_csv('pepsi-lag3.csv')\n",
    "data_lag3 = data_lag3.drop('Unnamed: 5', axis=1)\n",
    "data_lag3 = data_lag3.dropna()\n",
    "data_lag3['time'] = range(4,14) # Add time column to normalise graphs\n",
    "data_lag3"
   ]
  },
  {
   "cell_type": "code",
   "execution_count": 276,
   "metadata": {},
   "outputs": [
    {
     "data": {
      "text/html": [
       "<table class=\"simpletable\">\n",
       "<caption>OLS Regression Results</caption>\n",
       "<tr>\n",
       "  <th>Dep. Variable:</th>     <td>annual dividend</td> <th>  R-squared:         </th> <td>   0.566</td>\n",
       "</tr>\n",
       "<tr>\n",
       "  <th>Model:</th>                   <td>OLS</td>       <th>  Adj. R-squared:    </th> <td>   0.350</td>\n",
       "</tr>\n",
       "<tr>\n",
       "  <th>Method:</th>             <td>Least Squares</td>  <th>  F-statistic:       </th> <td>   2.613</td>\n",
       "</tr>\n",
       "<tr>\n",
       "  <th>Date:</th>             <td>Sun, 07 Aug 2022</td> <th>  Prob (F-statistic):</th>  <td> 0.146</td> \n",
       "</tr>\n",
       "<tr>\n",
       "  <th>Time:</th>                 <td>22:25:51</td>     <th>  Log-Likelihood:    </th> <td> 0.11707</td>\n",
       "</tr>\n",
       "<tr>\n",
       "  <th>No. Observations:</th>      <td>    10</td>      <th>  AIC:               </th> <td>   7.766</td>\n",
       "</tr>\n",
       "<tr>\n",
       "  <th>Df Residuals:</th>          <td>     6</td>      <th>  BIC:               </th> <td>   8.976</td>\n",
       "</tr>\n",
       "<tr>\n",
       "  <th>Df Model:</th>              <td>     3</td>      <th>                     </th>     <td> </td>   \n",
       "</tr>\n",
       "<tr>\n",
       "  <th>Covariance Type:</th>      <td>nonrobust</td>    <th>                     </th>     <td> </td>   \n",
       "</tr>\n",
       "</table>\n",
       "<table class=\"simpletable\">\n",
       "<tr>\n",
       "    <td></td>       <th>coef</th>     <th>std err</th>      <th>t</th>      <th>P>|t|</th>  <th>[0.025</th>    <th>0.975]</th>  \n",
       "</tr>\n",
       "<tr>\n",
       "  <th>const</th> <td>    0.1823</td> <td>    0.573</td> <td>    0.318</td> <td> 0.761</td> <td>   -1.220</td> <td>    1.585</td>\n",
       "</tr>\n",
       "<tr>\n",
       "  <th>lag1</th>  <td>    0.3953</td> <td>    0.336</td> <td>    1.178</td> <td> 0.284</td> <td>   -0.426</td> <td>    1.217</td>\n",
       "</tr>\n",
       "<tr>\n",
       "  <th>lag2</th>  <td>    9.7025</td> <td>    5.379</td> <td>    1.804</td> <td> 0.121</td> <td>   -3.461</td> <td>   22.866</td>\n",
       "</tr>\n",
       "<tr>\n",
       "  <th>lag3</th>  <td>  -10.0758</td> <td>    5.513</td> <td>   -1.828</td> <td> 0.117</td> <td>  -23.565</td> <td>    3.413</td>\n",
       "</tr>\n",
       "</table>\n",
       "<table class=\"simpletable\">\n",
       "<tr>\n",
       "  <th>Omnibus:</th>       <td> 1.283</td> <th>  Durbin-Watson:     </th> <td>   3.008</td>\n",
       "</tr>\n",
       "<tr>\n",
       "  <th>Prob(Omnibus):</th> <td> 0.527</td> <th>  Jarque-Bera (JB):  </th> <td>   0.030</td>\n",
       "</tr>\n",
       "<tr>\n",
       "  <th>Skew:</th>          <td> 0.035</td> <th>  Prob(JB):          </th> <td>   0.985</td>\n",
       "</tr>\n",
       "<tr>\n",
       "  <th>Kurtosis:</th>      <td> 3.258</td> <th>  Cond. No.          </th> <td>    231.</td>\n",
       "</tr>\n",
       "</table><br/><br/>Warnings:<br/>[1] Standard Errors assume that the covariance matrix of the errors is correctly specified."
      ],
      "text/plain": [
       "<class 'statsmodels.iolib.summary.Summary'>\n",
       "\"\"\"\n",
       "                            OLS Regression Results                            \n",
       "==============================================================================\n",
       "Dep. Variable:        annual dividend   R-squared:                       0.566\n",
       "Model:                            OLS   Adj. R-squared:                  0.350\n",
       "Method:                 Least Squares   F-statistic:                     2.613\n",
       "Date:                Sun, 07 Aug 2022   Prob (F-statistic):              0.146\n",
       "Time:                        22:25:51   Log-Likelihood:                0.11707\n",
       "No. Observations:                  10   AIC:                             7.766\n",
       "Df Residuals:                       6   BIC:                             8.976\n",
       "Df Model:                           3                                         \n",
       "Covariance Type:            nonrobust                                         \n",
       "==============================================================================\n",
       "                 coef    std err          t      P>|t|      [0.025      0.975]\n",
       "------------------------------------------------------------------------------\n",
       "const          0.1823      0.573      0.318      0.761      -1.220       1.585\n",
       "lag1           0.3953      0.336      1.178      0.284      -0.426       1.217\n",
       "lag2           9.7025      5.379      1.804      0.121      -3.461      22.866\n",
       "lag3         -10.0758      5.513     -1.828      0.117     -23.565       3.413\n",
       "==============================================================================\n",
       "Omnibus:                        1.283   Durbin-Watson:                   3.008\n",
       "Prob(Omnibus):                  0.527   Jarque-Bera (JB):                0.030\n",
       "Skew:                           0.035   Prob(JB):                        0.985\n",
       "Kurtosis:                       3.258   Cond. No.                         231.\n",
       "==============================================================================\n",
       "\n",
       "Warnings:\n",
       "[1] Standard Errors assume that the covariance matrix of the errors is correctly specified.\n",
       "\"\"\""
      ]
     },
     "execution_count": 276,
     "metadata": {},
     "output_type": "execute_result"
    }
   ],
   "source": [
    "x_lag3 = data_lag3[[\"lag1\", \"lag2\", \"lag3\"]] # Independent variable using lag1, lag2, and lag3\n",
    "x_c = sm.add_constant(x_lag3)\n",
    "y = data_lag3[\"annual dividend\"]\n",
    "results4 = sm.OLS(y,x_c).fit()\n",
    "results4.summary()"
   ]
  },
  {
   "cell_type": "markdown",
   "metadata": {},
   "source": [
    "### Auto Regression Using Lag 2\n",
    "First load the data, then run the multiple linear regression."
   ]
  },
  {
   "cell_type": "code",
   "execution_count": 277,
   "metadata": {},
   "outputs": [
    {
     "data": {
      "text/html": [
       "<div>\n",
       "<style scoped>\n",
       "    .dataframe tbody tr th:only-of-type {\n",
       "        vertical-align: middle;\n",
       "    }\n",
       "\n",
       "    .dataframe tbody tr th {\n",
       "        vertical-align: top;\n",
       "    }\n",
       "\n",
       "    .dataframe thead th {\n",
       "        text-align: right;\n",
       "    }\n",
       "</style>\n",
       "<table border=\"1\" class=\"dataframe\">\n",
       "  <thead>\n",
       "    <tr style=\"text-align: right;\">\n",
       "      <th></th>\n",
       "      <th>year</th>\n",
       "      <th>annual dividend</th>\n",
       "      <th>lag1</th>\n",
       "      <th>lag2</th>\n",
       "      <th>time</th>\n",
       "    </tr>\n",
       "  </thead>\n",
       "  <tbody>\n",
       "    <tr>\n",
       "      <th>0</th>\n",
       "      <td>2012.0</td>\n",
       "      <td>1.06</td>\n",
       "      <td>0.96</td>\n",
       "      <td>0.86</td>\n",
       "      <td>3</td>\n",
       "    </tr>\n",
       "    <tr>\n",
       "      <th>1</th>\n",
       "      <td>2013.0</td>\n",
       "      <td>1.20</td>\n",
       "      <td>1.06</td>\n",
       "      <td>0.96</td>\n",
       "      <td>4</td>\n",
       "    </tr>\n",
       "    <tr>\n",
       "      <th>2</th>\n",
       "      <td>2014.0</td>\n",
       "      <td>1.34</td>\n",
       "      <td>1.20</td>\n",
       "      <td>1.06</td>\n",
       "      <td>5</td>\n",
       "    </tr>\n",
       "    <tr>\n",
       "      <th>3</th>\n",
       "      <td>2015.0</td>\n",
       "      <td>1.49</td>\n",
       "      <td>1.34</td>\n",
       "      <td>1.20</td>\n",
       "      <td>6</td>\n",
       "    </tr>\n",
       "    <tr>\n",
       "      <th>4</th>\n",
       "      <td>2016.0</td>\n",
       "      <td>1.63</td>\n",
       "      <td>1.49</td>\n",
       "      <td>1.34</td>\n",
       "      <td>7</td>\n",
       "    </tr>\n",
       "  </tbody>\n",
       "</table>\n",
       "</div>"
      ],
      "text/plain": [
       "     year  annual dividend  lag1  lag2  time\n",
       "0  2012.0             1.06  0.96  0.86     3\n",
       "1  2013.0             1.20  1.06  0.96     4\n",
       "2  2014.0             1.34  1.20  1.06     5\n",
       "3  2015.0             1.49  1.34  1.20     6\n",
       "4  2016.0             1.63  1.49  1.34     7"
      ]
     },
     "execution_count": 277,
     "metadata": {},
     "output_type": "execute_result"
    }
   ],
   "source": [
    "data_lag2 = pd.read_csv('pepsi-lag2.csv')\n",
    "data_lag2 = data_lag2.drop('Unnamed: 5', axis=1)\n",
    "data_lag2 = data_lag2.drop('Unnamed: 4', axis=1)\n",
    "data_lag2 = data_lag2.dropna()\n",
    "data_lag2['time'] = range(3,14) # Add time column to normalise graphs\n",
    "data_lag2.head()"
   ]
  },
  {
   "cell_type": "code",
   "execution_count": 278,
   "metadata": {},
   "outputs": [
    {
     "data": {
      "text/html": [
       "<table class=\"simpletable\">\n",
       "<caption>OLS Regression Results</caption>\n",
       "<tr>\n",
       "  <th>Dep. Variable:</th>     <td>annual dividend</td> <th>  R-squared:         </th> <td>   0.419</td>\n",
       "</tr>\n",
       "<tr>\n",
       "  <th>Model:</th>                   <td>OLS</td>       <th>  Adj. R-squared:    </th> <td>   0.274</td>\n",
       "</tr>\n",
       "<tr>\n",
       "  <th>Method:</th>             <td>Least Squares</td>  <th>  F-statistic:       </th> <td>   2.884</td>\n",
       "</tr>\n",
       "<tr>\n",
       "  <th>Date:</th>             <td>Sun, 07 Aug 2022</td> <th>  Prob (F-statistic):</th>  <td> 0.114</td> \n",
       "</tr>\n",
       "<tr>\n",
       "  <th>Time:</th>                 <td>22:25:51</td>     <th>  Log-Likelihood:    </th> <td> -2.0969</td>\n",
       "</tr>\n",
       "<tr>\n",
       "  <th>No. Observations:</th>      <td>    11</td>      <th>  AIC:               </th> <td>   10.19</td>\n",
       "</tr>\n",
       "<tr>\n",
       "  <th>Df Residuals:</th>          <td>     8</td>      <th>  BIC:               </th> <td>   11.39</td>\n",
       "</tr>\n",
       "<tr>\n",
       "  <th>Df Model:</th>              <td>     2</td>      <th>                     </th>     <td> </td>   \n",
       "</tr>\n",
       "<tr>\n",
       "  <th>Covariance Type:</th>      <td>nonrobust</td>    <th>                     </th>     <td> </td>   \n",
       "</tr>\n",
       "</table>\n",
       "<table class=\"simpletable\">\n",
       "<tr>\n",
       "    <td></td>       <th>coef</th>     <th>std err</th>      <th>t</th>      <th>P>|t|</th>  <th>[0.025</th>    <th>0.975]</th>  \n",
       "</tr>\n",
       "<tr>\n",
       "  <th>const</th> <td>    0.6931</td> <td>    0.410</td> <td>    1.691</td> <td> 0.129</td> <td>   -0.252</td> <td>    1.638</td>\n",
       "</tr>\n",
       "<tr>\n",
       "  <th>lag1</th>  <td>    0.6404</td> <td>    0.346</td> <td>    1.850</td> <td> 0.102</td> <td>   -0.158</td> <td>    1.439</td>\n",
       "</tr>\n",
       "<tr>\n",
       "  <th>lag2</th>  <td>   -0.0665</td> <td>    0.318</td> <td>   -0.209</td> <td> 0.840</td> <td>   -0.800</td> <td>    0.667</td>\n",
       "</tr>\n",
       "</table>\n",
       "<table class=\"simpletable\">\n",
       "<tr>\n",
       "  <th>Omnibus:</th>       <td>11.199</td> <th>  Durbin-Watson:     </th> <td>   2.060</td>\n",
       "</tr>\n",
       "<tr>\n",
       "  <th>Prob(Omnibus):</th> <td> 0.004</td> <th>  Jarque-Bera (JB):  </th> <td>   5.567</td>\n",
       "</tr>\n",
       "<tr>\n",
       "  <th>Skew:</th>          <td>-1.462</td> <th>  Prob(JB):          </th> <td>  0.0618</td>\n",
       "</tr>\n",
       "<tr>\n",
       "  <th>Kurtosis:</th>      <td> 4.896</td> <th>  Cond. No.          </th> <td>    11.1</td>\n",
       "</tr>\n",
       "</table><br/><br/>Warnings:<br/>[1] Standard Errors assume that the covariance matrix of the errors is correctly specified."
      ],
      "text/plain": [
       "<class 'statsmodels.iolib.summary.Summary'>\n",
       "\"\"\"\n",
       "                            OLS Regression Results                            \n",
       "==============================================================================\n",
       "Dep. Variable:        annual dividend   R-squared:                       0.419\n",
       "Model:                            OLS   Adj. R-squared:                  0.274\n",
       "Method:                 Least Squares   F-statistic:                     2.884\n",
       "Date:                Sun, 07 Aug 2022   Prob (F-statistic):              0.114\n",
       "Time:                        22:25:51   Log-Likelihood:                -2.0969\n",
       "No. Observations:                  11   AIC:                             10.19\n",
       "Df Residuals:                       8   BIC:                             11.39\n",
       "Df Model:                           2                                         \n",
       "Covariance Type:            nonrobust                                         \n",
       "==============================================================================\n",
       "                 coef    std err          t      P>|t|      [0.025      0.975]\n",
       "------------------------------------------------------------------------------\n",
       "const          0.6931      0.410      1.691      0.129      -0.252       1.638\n",
       "lag1           0.6404      0.346      1.850      0.102      -0.158       1.439\n",
       "lag2          -0.0665      0.318     -0.209      0.840      -0.800       0.667\n",
       "==============================================================================\n",
       "Omnibus:                       11.199   Durbin-Watson:                   2.060\n",
       "Prob(Omnibus):                  0.004   Jarque-Bera (JB):                5.567\n",
       "Skew:                          -1.462   Prob(JB):                       0.0618\n",
       "Kurtosis:                       4.896   Cond. No.                         11.1\n",
       "==============================================================================\n",
       "\n",
       "Warnings:\n",
       "[1] Standard Errors assume that the covariance matrix of the errors is correctly specified.\n",
       "\"\"\""
      ]
     },
     "execution_count": 278,
     "metadata": {},
     "output_type": "execute_result"
    }
   ],
   "source": [
    "x_lag2 = data_lag2[[\"lag1\", \"lag2\"]] # Independent variable using lag1, lag2, and lag3\n",
    "x_c = sm.add_constant(x_lag2)\n",
    "y = data_lag2[\"annual dividend\"]\n",
    "results5 = sm.OLS(y,x_c).fit()\n",
    "results5.summary()"
   ]
  },
  {
   "cell_type": "markdown",
   "metadata": {},
   "source": [
    "### Auto Regression Using Lag 1\n",
    "First load the data, then run the simple linear regression."
   ]
  },
  {
   "cell_type": "code",
   "execution_count": 279,
   "metadata": {},
   "outputs": [
    {
     "data": {
      "text/html": [
       "<div>\n",
       "<style scoped>\n",
       "    .dataframe tbody tr th:only-of-type {\n",
       "        vertical-align: middle;\n",
       "    }\n",
       "\n",
       "    .dataframe tbody tr th {\n",
       "        vertical-align: top;\n",
       "    }\n",
       "\n",
       "    .dataframe thead th {\n",
       "        text-align: right;\n",
       "    }\n",
       "</style>\n",
       "<table border=\"1\" class=\"dataframe\">\n",
       "  <thead>\n",
       "    <tr style=\"text-align: right;\">\n",
       "      <th></th>\n",
       "      <th>year</th>\n",
       "      <th>annual dividend</th>\n",
       "      <th>lag1</th>\n",
       "      <th>time</th>\n",
       "    </tr>\n",
       "  </thead>\n",
       "  <tbody>\n",
       "    <tr>\n",
       "      <th>0</th>\n",
       "      <td>2011.0</td>\n",
       "      <td>0.96</td>\n",
       "      <td>0.86</td>\n",
       "      <td>2</td>\n",
       "    </tr>\n",
       "    <tr>\n",
       "      <th>1</th>\n",
       "      <td>2012.0</td>\n",
       "      <td>1.06</td>\n",
       "      <td>0.96</td>\n",
       "      <td>3</td>\n",
       "    </tr>\n",
       "    <tr>\n",
       "      <th>2</th>\n",
       "      <td>2013.0</td>\n",
       "      <td>1.20</td>\n",
       "      <td>1.06</td>\n",
       "      <td>4</td>\n",
       "    </tr>\n",
       "    <tr>\n",
       "      <th>3</th>\n",
       "      <td>2014.0</td>\n",
       "      <td>1.34</td>\n",
       "      <td>1.20</td>\n",
       "      <td>5</td>\n",
       "    </tr>\n",
       "    <tr>\n",
       "      <th>4</th>\n",
       "      <td>2015.0</td>\n",
       "      <td>1.49</td>\n",
       "      <td>1.34</td>\n",
       "      <td>6</td>\n",
       "    </tr>\n",
       "  </tbody>\n",
       "</table>\n",
       "</div>"
      ],
      "text/plain": [
       "     year  annual dividend  lag1  time\n",
       "0  2011.0             0.96  0.86     2\n",
       "1  2012.0             1.06  0.96     3\n",
       "2  2013.0             1.20  1.06     4\n",
       "3  2014.0             1.34  1.20     5\n",
       "4  2015.0             1.49  1.34     6"
      ]
     },
     "execution_count": 279,
     "metadata": {},
     "output_type": "execute_result"
    }
   ],
   "source": [
    "data_lag1 = pd.read_csv('pepsi-lag1.csv')\n",
    "data_lag1 = data_lag1.drop('Unnamed: 7', axis=1)\n",
    "data_lag1 = data_lag1.drop('Unnamed: 6', axis=1)\n",
    "data_lag1 = data_lag1.drop('Unnamed: 5', axis=1)\n",
    "data_lag1 = data_lag1.drop('Unnamed: 4', axis=1)\n",
    "data_lag1 = data_lag1.drop('Unnamed: 3', axis=1)\n",
    "data_lag1 = data_lag1.dropna()\n",
    "data_lag1['time'] = range(2,14) # Add time column to normalise graphs\n",
    "data_lag1.head()"
   ]
  },
  {
   "cell_type": "code",
   "execution_count": 280,
   "metadata": {},
   "outputs": [
    {
     "data": {
      "text/html": [
       "<table class=\"simpletable\">\n",
       "<caption>OLS Regression Results</caption>\n",
       "<tr>\n",
       "  <th>Dep. Variable:</th>     <td>annual dividend</td> <th>  R-squared:         </th> <td>   0.504</td>\n",
       "</tr>\n",
       "<tr>\n",
       "  <th>Model:</th>                   <td>OLS</td>       <th>  Adj. R-squared:    </th> <td>   0.454</td>\n",
       "</tr>\n",
       "<tr>\n",
       "  <th>Method:</th>             <td>Least Squares</td>  <th>  F-statistic:       </th> <td>   10.14</td>\n",
       "</tr>\n",
       "<tr>\n",
       "  <th>Date:</th>             <td>Sun, 07 Aug 2022</td> <th>  Prob (F-statistic):</th>  <td>0.00974</td>\n",
       "</tr>\n",
       "<tr>\n",
       "  <th>Time:</th>                 <td>22:25:51</td>     <th>  Log-Likelihood:    </th> <td> -2.0190</td>\n",
       "</tr>\n",
       "<tr>\n",
       "  <th>No. Observations:</th>      <td>    12</td>      <th>  AIC:               </th> <td>   8.038</td>\n",
       "</tr>\n",
       "<tr>\n",
       "  <th>Df Residuals:</th>          <td>    10</td>      <th>  BIC:               </th> <td>   9.008</td>\n",
       "</tr>\n",
       "<tr>\n",
       "  <th>Df Model:</th>              <td>     1</td>      <th>                     </th>     <td> </td>   \n",
       "</tr>\n",
       "<tr>\n",
       "  <th>Covariance Type:</th>      <td>nonrobust</td>    <th>                     </th>     <td> </td>   \n",
       "</tr>\n",
       "</table>\n",
       "<table class=\"simpletable\">\n",
       "<tr>\n",
       "    <td></td>       <th>coef</th>     <th>std err</th>      <th>t</th>      <th>P>|t|</th>  <th>[0.025</th>    <th>0.975]</th>  \n",
       "</tr>\n",
       "<tr>\n",
       "  <th>const</th> <td>    0.5661</td> <td>    0.317</td> <td>    1.786</td> <td> 0.104</td> <td>   -0.140</td> <td>    1.272</td>\n",
       "</tr>\n",
       "<tr>\n",
       "  <th>lag1</th>  <td>    0.6477</td> <td>    0.203</td> <td>    3.185</td> <td> 0.010</td> <td>    0.195</td> <td>    1.101</td>\n",
       "</tr>\n",
       "</table>\n",
       "<table class=\"simpletable\">\n",
       "<tr>\n",
       "  <th>Omnibus:</th>       <td>14.198</td> <th>  Durbin-Watson:     </th> <td>   1.986</td>\n",
       "</tr>\n",
       "<tr>\n",
       "  <th>Prob(Omnibus):</th> <td> 0.001</td> <th>  Jarque-Bera (JB):  </th> <td>   8.810</td>\n",
       "</tr>\n",
       "<tr>\n",
       "  <th>Skew:</th>          <td>-1.645</td> <th>  Prob(JB):          </th> <td>  0.0122</td>\n",
       "</tr>\n",
       "<tr>\n",
       "  <th>Kurtosis:</th>      <td> 5.607</td> <th>  Cond. No.          </th> <td>    7.57</td>\n",
       "</tr>\n",
       "</table><br/><br/>Warnings:<br/>[1] Standard Errors assume that the covariance matrix of the errors is correctly specified."
      ],
      "text/plain": [
       "<class 'statsmodels.iolib.summary.Summary'>\n",
       "\"\"\"\n",
       "                            OLS Regression Results                            \n",
       "==============================================================================\n",
       "Dep. Variable:        annual dividend   R-squared:                       0.504\n",
       "Model:                            OLS   Adj. R-squared:                  0.454\n",
       "Method:                 Least Squares   F-statistic:                     10.14\n",
       "Date:                Sun, 07 Aug 2022   Prob (F-statistic):            0.00974\n",
       "Time:                        22:25:51   Log-Likelihood:                -2.0190\n",
       "No. Observations:                  12   AIC:                             8.038\n",
       "Df Residuals:                      10   BIC:                             9.008\n",
       "Df Model:                           1                                         \n",
       "Covariance Type:            nonrobust                                         \n",
       "==============================================================================\n",
       "                 coef    std err          t      P>|t|      [0.025      0.975]\n",
       "------------------------------------------------------------------------------\n",
       "const          0.5661      0.317      1.786      0.104      -0.140       1.272\n",
       "lag1           0.6477      0.203      3.185      0.010       0.195       1.101\n",
       "==============================================================================\n",
       "Omnibus:                       14.198   Durbin-Watson:                   1.986\n",
       "Prob(Omnibus):                  0.001   Jarque-Bera (JB):                8.810\n",
       "Skew:                          -1.645   Prob(JB):                       0.0122\n",
       "Kurtosis:                       5.607   Cond. No.                         7.57\n",
       "==============================================================================\n",
       "\n",
       "Warnings:\n",
       "[1] Standard Errors assume that the covariance matrix of the errors is correctly specified.\n",
       "\"\"\""
      ]
     },
     "execution_count": 280,
     "metadata": {},
     "output_type": "execute_result"
    }
   ],
   "source": [
    "x_lag1 = data_lag1[\"lag1\"] # Independent variable using lag1, lag2, and lag3\n",
    "x_c = sm.add_constant(x_lag1)\n",
    "y = data_lag1[\"annual dividend\"]\n",
    "results6 = sm.OLS(y,x_c).fit()\n",
    "results6.summary()"
   ]
  },
  {
   "cell_type": "markdown",
   "metadata": {},
   "source": [
    "## Plot All 6 Residuals on 1 Chart"
   ]
  },
  {
   "cell_type": "code",
   "execution_count": 281,
   "metadata": {},
   "outputs": [
    {
     "data": {
      "image/png": "[encoded data removed]",
      "text/plain": [
       "<Figure size 720x504 with 1 Axes>"
      ]
     },
     "metadata": {},
     "output_type": "display_data"
    }
   ],
   "source": [
    "x = data['time']\n",
    "x_lag1 = data_lag1['time']\n",
    "x_lag2 = data_lag2['time']\n",
    "x_lag3 = data_lag3['time']\n",
    "\n",
    "# Plot linear residuals\n",
    "res1 = plt.scatter(x,results.resid, color='b')\n",
    "plt.plot(x,results.resid, color='b')\n",
    "\n",
    "# Plot quadratic residuals\n",
    "res2 = plt.scatter(x,results2.resid, color='r')\n",
    "plt.plot(x,results2.resid, color='r')\n",
    "\n",
    "# Plot exponential residuals\n",
    "res3 = plt.scatter(x,results3.resid, color='grey')\n",
    "plt.plot(x,results3.resid, color='grey')\n",
    "\n",
    "# Plot Lag 3 residuals (unnecessary)\n",
    "#res4 = plt.scatter(x_lag3,results4.resid, color='y')\n",
    "#plt.plot(x_lag3,results4.resid, color='y')\n",
    "\n",
    "# Plot Lag 2 residuals (unnecessary)\n",
    "#res5 = plt.scatter(x_lag2, results5.resid, color='purple')\n",
    "#plt.plot(x_lag2,results5.resid, color='purple')\n",
    "\n",
    "# Plot Lag 1 residuals\n",
    "res6 = plt.scatter(x_lag1, results6.resid, color='g')\n",
    "plt.plot(x_lag1,results6.resid, color='g')\n",
    "\n",
    "# Add line through y=0, then add labels and legend\n",
    "plt.hlines(0, 0, 13, color='black')\n",
    "plt.xlabel('Time', fontsize = 18)\n",
    "plt.ylabel('Residuals', fontsize = 18)\n",
    "plt.legend((res1, res2, res3, res6), \n",
    "           ('Simple Linear', 'Quadratic', 'Exponential', 'Lag 1 AR'), \n",
    "           scatterpoints=1, loc='lower left', ncol=2, fontsize=16)\n",
    "plt.show()"
   ]
  }
 ],
 "metadata": {
  "kernelspec": {
   "display_name": "Python 3",
   "language": "python",
   "name": "python3"
  },
  "language_info": {
   "codemirror_mode": {
    "name": "ipython",
    "version": 3
   },
   "file_extension": ".py",
   "mimetype": "text/x-python",
   "name": "python",
   "nbconvert_exporter": "python",
   "pygments_lexer": "ipython3",
   "version": "3.8.3"
  }
 },
 "nbformat": 4,
 "nbformat_minor": 4
}
