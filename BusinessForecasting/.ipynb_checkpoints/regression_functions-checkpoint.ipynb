{
 "cells": [
  {
   "cell_type": "markdown",
   "metadata": {},
   "source": [
    "# Common Regression Functions "
   ]
  },
  {
   "cell_type": "markdown",
   "metadata": {},
   "source": [
    "### Imports"
   ]
  },
  {
   "cell_type": "code",
   "execution_count": 1,
   "metadata": {},
   "outputs": [],
   "source": [
    "import numpy as np\n",
    "import pandas as pd\n",
    "import matplotlib.pyplot as plt\n",
    "import seaborn as sns\n",
    "import statsmodels.api as sm"
   ]
  },
  {
   "cell_type": "markdown",
   "metadata": {},
   "source": [
    "## Open CSV as Pandas Dataframe"
   ]
  },
  {
   "cell_type": "code",
   "execution_count": 2,
   "metadata": {},
   "outputs": [],
   "source": [
    "def open_csv(filename):\n",
    "    data = pd.read_csv(f\"{file}.csv\")\n",
    "    return data"
   ]
  },
  {
   "cell_type": "markdown",
   "metadata": {},
   "source": [
    "## Run OLS Regression"
   ]
  },
  {
   "cell_type": "code",
   "execution_count": 3,
   "metadata": {},
   "outputs": [],
   "source": [
    "def run_regression(x, y):\n",
    "    x_c = sm.add_constant(x) # create constant value from x\n",
    "    results = sm.OLS(y,x_c).fit() # create OLS regression model\n",
    "    results.summary() # display results\n",
    "    return results"
   ]
  },
  {
   "cell_type": "markdown",
   "metadata": {},
   "source": [
    "## Plot Residuals from Regression Analysis"
   ]
  },
  {
   "cell_type": "code",
   "execution_count": 4,
   "metadata": {},
   "outputs": [],
   "source": [
    "def show_residuals(x, y, x_label, y_label):\n",
    "    plt.scatter(x, y)\n",
    "    plt.hlines(0, 0, len(x), color='black')\n",
    "    plt.xlabel(x_label, fontsize = 16)\n",
    "    plt.ylabel(y_label, fontsize = 16)\n",
    "    plt.show()"
   ]
  },
  {
   "cell_type": "markdown",
   "metadata": {},
   "source": [
    "## Plot Predictions vs Actual Value"
   ]
  },
  {
   "cell_type": "code",
   "execution_count": null,
   "metadata": {},
   "outputs": [],
   "source": [
    "def show_predictions_vs_actual(x, y, y_pred, x_label, y_label):\n",
    "    actual = plt.scatter(x,y, color='b')\n",
    "    plt.plot(x,y, color='b')\n",
    "\n",
    "    predicted = plt.scatter(x, y_pred, color='r')\n",
    "    plt.plot(x, y_pred, color='r')\n",
    "\n",
    "    plt.legend((actual, predicted), \n",
    "               (f\"Actual {y_label}\", f\"Predicted {y_label}\"), \n",
    "               scatterpoints=1, loc='lower left', fontsize=16)\n",
    "\n",
    "    plt.xlabel(x_label, fontsize = 16)\n",
    "    plt.ylabel(y_label, fontsize = 16)\n",
    "    plt.show()"
   ]
  }
 ],
 "metadata": {
  "kernelspec": {
   "display_name": "Python 3",
   "language": "python",
   "name": "python3"
  },
  "language_info": {
   "codemirror_mode": {
    "name": "ipython",
    "version": 3
   },
   "file_extension": ".py",
   "mimetype": "text/x-python",
   "name": "python",
   "nbconvert_exporter": "python",
   "pygments_lexer": "ipython3",
   "version": "3.8.3"
  }
 },
 "nbformat": 4,
 "nbformat_minor": 4
}
